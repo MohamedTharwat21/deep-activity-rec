{
 "cells": [
  {
   "cell_type": "code",
   "execution_count": null,
   "metadata": {},
   "outputs": [],
   "source": [
    "# Attention !\n",
    "\n",
    "\"\"\"Go to the notebook version to run Linux Kernel Commands \"\"\"\n",
    "\n",
    "\"\"\"this part [if you are doing the training \n",
    "on online cloud based service like colab or kaggle \n",
    "and you do not like to save your work in your disk \n",
    "if you are kaggler you can use kaggle datasets \n",
    "as your own disk]\"\"\"\n"
   ]
  },
  {
   "cell_type": "code",
   "execution_count": null,
   "metadata": {},
   "outputs": [],
   "source": []
  },
  {
   "cell_type": "code",
   "execution_count": null,
   "metadata": {},
   "outputs": [],
   "source": [
    "# move them to kaggle datasets\n",
    "\n",
    "import json\n",
    "!mkdir -p ~/.kaggle\n",
    "!cp /kaggle/input/jsssooonfile/kaggle.json  ~/.kaggle/\n",
    "!chmod 600 ~/.kaggle/kaggle.json\n",
    "!kaggle datasets init -p /kaggle/working/\n",
    "\n",
    "# Path to the metadata file\n",
    "metadata_path = '/kaggle/working/dataset-metadata.json'\n",
    "\n",
    "# Load existing metadata\n",
    "with open(metadata_path, 'r') as file:\n",
    "    metadata = json.load(file)\n",
    "\n",
    "# Update the metadata fields with a unique title and ID\n",
    "metadata['id'] = 'mohammedtharwat339/b4-dataset-trainvaltest-img-annot-4732598a'  # Ensure the ID is unique\n",
    "metadata['title'] = 'b4-dataset-trainvaltest-img-annot-4732598a'  # Ensure the title is unique\n",
    "\n",
    "# Save the updated metadata\n",
    "with open(metadata_path, 'w') as file:\n",
    "    json.dump(metadata, file, indent=4)\n",
    "\n",
    "print(\"Metadata updated successfully!\")\n",
    "\n",
    "# Upload the dataset\n",
    "!kaggle datasets create -p /kaggle/working/"
   ]
  },
  {
   "cell_type": "code",
   "execution_count": null,
   "metadata": {},
   "outputs": [],
   "source": []
  }
 ],
 "metadata": {
  "kernelspec": {
   "display_name": "Python 3",
   "language": "python",
   "name": "python3"
  },
  "language_info": {
   "name": "python",
   "version": "3.11.5"
  }
 },
 "nbformat": 4,
 "nbformat_minor": 2
}
