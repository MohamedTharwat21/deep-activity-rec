{
 "cells": [
  {
   "cell_type": "code",
   "execution_count": null,
   "metadata": {},
   "outputs": [],
   "source": []
  },
  {
   "cell_type": "code",
   "execution_count": null,
   "metadata": {},
   "outputs": [],
   "source": [
    "if __name__ == \"__main__\" :\n",
    "    pass"
   ]
  },
  {
   "cell_type": "code",
   "execution_count": null,
   "metadata": {},
   "outputs": [],
   "source": [
    "\n",
    "!mkdir -p ~/.kaggle\n",
    "!cp /kaggle/input/jsssooonfile/kaggle.json  ~/.kaggle/\n",
    "!chmod 600 ~/.kaggle/kaggle.json\n",
    "!kaggle datasets init -p /kaggle/working/\n",
    "\n",
    "# Path to the metadata file\n",
    "metadata_path = '/kaggle/working/dataset-metadata.json'\n",
    "\n",
    "# Load existing metadata\n",
    "with open(metadata_path, 'r') as file:\n",
    "    metadata = json.load(file)\n",
    "\n",
    "# Update the metadata fields with a unique title and ID\n",
    "metadata['id'] = 'mohammedtharwat339/b3-dataset-crops-and-annotations-4732598a'  # Ensure the ID is unique\n",
    "metadata['title'] = 'b3-dataset-crops-and-annotations-4732598a'  # Ensure the title is unique\n",
    "\n",
    "# Save the updated metadata\n",
    "with open(metadata_path, 'w') as file:\n",
    "    json.dump(metadata, file, indent=4)\n",
    "\n",
    "print(\"Metadata updated successfully!\")\n",
    "\n",
    "# Upload the dataset\n",
    "!kaggle datasets create -p /kaggle/working/"
   ]
  },
  {
   "cell_type": "code",
   "execution_count": null,
   "metadata": {},
   "outputs": [],
   "source": []
  },
  {
   "cell_type": "code",
   "execution_count": null,
   "metadata": {},
   "outputs": [],
   "source": [
    "import json\n",
    "!mkdir -p ~/.kaggle\n",
    "!cp /kaggle/input/jsssooonfile/kaggle.json  ~/.kaggle/\n",
    "!chmod 600 ~/.kaggle/kaggle.json\n",
    "!kaggle datasets init -p /kaggle/working/\n",
    "\n",
    "# Path to the metadata file\n",
    "metadata_path = '/kaggle/working/dataset-metadata.json'\n",
    "\n",
    "# Load existing metadata\n",
    "with open(metadata_path, 'r') as file:\n",
    "    metadata = json.load(file)\n",
    "\n",
    "# Update the metadata fields with a unique title and ID\n",
    "metadata['id'] = 'mohammedtharwat339/b3-first-trained-model-v1-4732598a'  # Ensure the ID is unique\n",
    "metadata['title'] = 'b3_first_trained_model_v1_4732598a'  # Ensure the title is unique\n",
    "\n",
    "# Save the updated metadata\n",
    "with open(metadata_path, 'w') as file:\n",
    "    json.dump(metadata, file, indent=4)\n",
    "\n",
    "print(\"Metadata updated successfully!\")\n",
    "\n",
    "# Upload the dataset\n",
    "!kaggle datasets create -p /kaggle/working/"
   ]
  }
 ],
 "metadata": {
  "kernelspec": {
   "display_name": "Python 3",
   "language": "python",
   "name": "python3"
  },
  "language_info": {
   "name": "python",
   "version": "3.11.5"
  }
 },
 "nbformat": 4,
 "nbformat_minor": 2
}
